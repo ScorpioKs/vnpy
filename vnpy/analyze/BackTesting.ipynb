{
 "cells": [
  {
   "cell_type": "code",
   "execution_count": 1,
   "metadata": {},
   "outputs": [],
   "source": [
    "import sys\n",
    "\n",
    "sys.path.append(\"../../../vnpy\")\n",
    "from vnpy.app.cta_strategy.backtesting import BacktestingEngine, OptimizationSetting\n",
    "from datetime import datetime\n",
    "from vnpy.trader.database import database_manager\n",
    "from vnpy.trader import utility\n",
    "import pandas as pd"
   ]
  },
  {
   "cell_type": "code",
   "execution_count": 2,
   "metadata": {},
   "outputs": [],
   "source": [
    "from vnpy.app.cta_strategy.strategies.feng_oversold_strategy import FengOversoldStrategy\n",
    "\n",
    "\n",
    "engine = BacktestingEngine()\n",
    "engine.set_parameters(\n",
    "    vt_symbol=\"btcusdt.BINANCE\",\n",
    "    interval=\"1m\",\n",
    "    start=datetime(2020, 10, 10),\n",
    "    end=datetime(2020, 10, 19),\n",
    "    rate=1/1000,\n",
    "    slippage=0.2,\n",
    "    size=300,\n",
    "    pricetick=0.2,\n",
    "    capital=1_000_000,\n",
    ")\n",
    "engine.add_strategy(FengOversoldStrategy, {})"
   ]
  },
  {
   "cell_type": "code",
   "execution_count": 3,
   "metadata": {},
   "outputs": [
    {
     "name": "stdout",
     "output_type": "stream",
     "text": [
      "2020-10-20 20:42:32.615024\t开始加载历史数据\n",
      "2020-10-20 20:42:33.258705\t加载进度：########## [100%]\n",
      "2020-10-20 20:42:33.258848\t历史数据加载完成，数据量：12961\n",
      "2020-10-20 20:42:33.286904\t策略初始化完成\n",
      "2020-10-20 20:42:33.287014\t开始回放历史数据\n",
      "2020-10-20 20:42:33.287614\t历史数据回放结束\n"
     ]
    },
    {
     "ename": "AttributeError",
     "evalue": "'list' object has no attribute 'values'",
     "output_type": "error",
     "traceback": [
      "\u001B[0;31m---------------------------------------------------------------------------\u001B[0m",
      "\u001B[0;31mAttributeError\u001B[0m                            Traceback (most recent call last)",
      "\u001B[0;32m<ipython-input-3-35d0edceb7eb>\u001B[0m in \u001B[0;36m<module>\u001B[0;34m\u001B[0m\n\u001B[1;32m      4\u001B[0m \u001B[0mengine\u001B[0m\u001B[0;34m.\u001B[0m\u001B[0mrun_backtesting\u001B[0m\u001B[0;34m(\u001B[0m\u001B[0;34m)\u001B[0m\u001B[0;34m\u001B[0m\u001B[0;34m\u001B[0m\u001B[0m\n\u001B[1;32m      5\u001B[0m \u001B[0;31m# todo - 完成历史回放后保存回测交易数据。\u001B[0m\u001B[0;34m\u001B[0m\u001B[0;34m\u001B[0m\u001B[0;34m\u001B[0m\u001B[0m\n\u001B[0;32m----> 6\u001B[0;31m \u001B[0mdf_his\u001B[0m \u001B[0;34m=\u001B[0m \u001B[0mutility\u001B[0m\u001B[0;34m.\u001B[0m\u001B[0mdata_to_frame\u001B[0m\u001B[0;34m(\u001B[0m\u001B[0mengine\u001B[0m\u001B[0;34m.\u001B[0m\u001B[0mhistory_data\u001B[0m\u001B[0;34m)\u001B[0m\u001B[0;34m\u001B[0m\u001B[0;34m\u001B[0m\u001B[0m\n\u001B[0m\u001B[1;32m      7\u001B[0m \u001B[0mdf_his\u001B[0m\u001B[0;34m\u001B[0m\u001B[0;34m\u001B[0m\u001B[0m\n\u001B[1;32m      8\u001B[0m \u001B[0;34m\u001B[0m\u001B[0m\n",
      "\u001B[0;32m~/PycharmProjects/vnpy/vnpy/trader/utility.py\u001B[0m in \u001B[0;36mdata_to_frame\u001B[0;34m(datadict)\u001B[0m\n\u001B[1;32m     23\u001B[0m \u001B[0;32mdef\u001B[0m \u001B[0mdata_to_frame\u001B[0m\u001B[0;34m(\u001B[0m\u001B[0mdatadict\u001B[0m\u001B[0;34m:\u001B[0m \u001B[0mDict\u001B[0m\u001B[0;34m[\u001B[0m\u001B[0mstr\u001B[0m\u001B[0;34m,\u001B[0m\u001B[0mBaseData\u001B[0m\u001B[0;34m]\u001B[0m\u001B[0;34m)\u001B[0m\u001B[0;34m:\u001B[0m\u001B[0;34m\u001B[0m\u001B[0;34m\u001B[0m\u001B[0m\n\u001B[1;32m     24\u001B[0m     \u001B[0mpre_dict\u001B[0m \u001B[0;34m=\u001B[0m \u001B[0mdefaultdict\u001B[0m\u001B[0;34m(\u001B[0m\u001B[0mlist\u001B[0m\u001B[0;34m)\u001B[0m\u001B[0;34m\u001B[0m\u001B[0;34m\u001B[0m\u001B[0m\n\u001B[0;32m---> 25\u001B[0;31m     \u001B[0;32mfor\u001B[0m \u001B[0mdata\u001B[0m \u001B[0;32min\u001B[0m \u001B[0mdatadict\u001B[0m\u001B[0;34m.\u001B[0m\u001B[0mvalues\u001B[0m\u001B[0;34m(\u001B[0m\u001B[0;34m)\u001B[0m\u001B[0;34m:\u001B[0m\u001B[0;34m\u001B[0m\u001B[0;34m\u001B[0m\u001B[0m\n\u001B[0m\u001B[1;32m     26\u001B[0m         \u001B[0;32mfor\u001B[0m \u001B[0mk\u001B[0m\u001B[0;34m,\u001B[0m \u001B[0mv\u001B[0m \u001B[0;32min\u001B[0m \u001B[0mdata\u001B[0m\u001B[0;34m.\u001B[0m\u001B[0m__dict__\u001B[0m\u001B[0;34m.\u001B[0m\u001B[0mitems\u001B[0m\u001B[0;34m(\u001B[0m\u001B[0;34m)\u001B[0m\u001B[0;34m:\u001B[0m\u001B[0;34m\u001B[0m\u001B[0;34m\u001B[0m\u001B[0m\n\u001B[1;32m     27\u001B[0m             \u001B[0mpre_dict\u001B[0m\u001B[0;34m[\u001B[0m\u001B[0mk\u001B[0m\u001B[0;34m]\u001B[0m\u001B[0;34m.\u001B[0m\u001B[0mappend\u001B[0m\u001B[0;34m(\u001B[0m\u001B[0mv\u001B[0m\u001B[0;34m)\u001B[0m\u001B[0;34m\u001B[0m\u001B[0;34m\u001B[0m\u001B[0m\n",
      "\u001B[0;31mAttributeError\u001B[0m: 'list' object has no attribute 'values'"
     ]
    }
   ],
   "source": [
    "conn = database_manager.get_database_connection()\n",
    "\n",
    "engine.load_data() \n",
    "engine.run_backtesting()\n",
    "# todo - 完成历史回放后保存回测交易数据。\n",
    "\n",
    "df_trades = utility.data_to_frame(engine.trades)\n",
    "df_trades\n",
    "# df_trades.to_sql('backtesttrades', conn, index=False,if_exists='append')\n",
    "# todo 调整日K 为 +8 时区的上午8点到次日上午8点\n",
    "# todo - 产生window bar 的数据，并存入数据库。（vnpy 默认1min 的bar）                                                                                       \n",
    "df = engine.calculate_result()\n",
    "# # todo - 存储计算后的daliy result.\n",
    "engine.calculate_statistics()\n",
    "# # todo - 存储计算后的统计指标\n",
    "engine.show_chart()\n",
    "# todo - 优化图表\n",
    "# todo - 1.资金 增加 行情基准线 作为比较\n",
    "# todo - 2.基于plotly 的回测 window k线 和交易情况。\n",
    "# todo - 3.交易级别的机会分布\n",
    "# todo - 4.交易级别的盈亏分布\n",
    "# todo - ..."
   ]
  },
  {
   "cell_type": "code",
   "execution_count": null,
   "metadata": {},
   "outputs": [],
   "source": [
    "# setting = OptimizationSetting()\n",
    "# setting.set_target(\"sharpe_ratio\")\n",
    "# setting.add_parameter(\"atr_length\", 3, 39, 1)\n",
    "# setting.add_parameter(\"atr_ma_length\", 10, 30, 1)\n",
    "\n",
    "# engine.run_ga_optimization(setting)"
   ]
  },
  {
   "cell_type": "code",
   "execution_count": null,
   "metadata": {},
   "outputs": [],
   "source": [
    "# df = pd.read_sql_query(\"select * from dbbardata\",conn)\n",
    "# df"
   ]
  }
 ],
 "metadata": {
  "kernelspec": {
   "display_name": "Python 3",
   "language": "python",
   "name": "python3"
  },
  "language_info": {
   "codemirror_mode": {
    "name": "ipython",
    "version": 3
   },
   "file_extension": ".py",
   "mimetype": "text/x-python",
   "name": "python",
   "nbconvert_exporter": "python",
   "pygments_lexer": "ipython3",
   "version": "3.7.5"
  }
 },
 "nbformat": 4,
 "nbformat_minor": 4
}